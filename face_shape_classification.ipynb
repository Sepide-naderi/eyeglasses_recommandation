{
 "cells": [
  {
   "cell_type": "code",
   "execution_count": 16,
   "id": "initial_id",
   "metadata": {
    "collapsed": true,
    "ExecuteTime": {
     "end_time": "2025-04-09T15:41:09.484531500Z",
     "start_time": "2025-04-09T15:41:09.482010700Z"
    }
   },
   "outputs": [],
   "source": [
    "import os\n",
    "import glob\n",
    "import pandas as pd\n",
    "from sklearn.model_selection import train_test_split"
   ]
  },
  {
   "cell_type": "code",
   "execution_count": 14,
   "outputs": [
    {
     "name": "stdout",
     "output_type": "stream",
     "text": [
      "using dataset folder:  Faceshape_dataset\n",
      "subdirectories in base_dir:  ['test', 'train']\n"
     ]
    }
   ],
   "source": [
    "dataset_path = 'Faceshape_dataset'\n",
    "# The dataset folder is inside a subdirectory called 'dataset'\n",
    "base_dir = os.path.join(dataset_path)\n",
    "print('using dataset folder: ', base_dir)\n",
    "#list the subdirectories in base_dir\n",
    "subdirs = os.listdir(base_dir)\n",
    "print('subdirectories in base_dir: ', subdirs)"
   ],
   "metadata": {
    "collapsed": false,
    "ExecuteTime": {
     "end_time": "2025-04-09T15:33:36.299991Z",
     "start_time": "2025-04-09T15:33:36.292473500Z"
    }
   },
   "id": "d539d22bd1a17a8c"
  },
  {
   "cell_type": "code",
   "execution_count": 20,
   "outputs": [
    {
     "name": "stdout",
     "output_type": "stream",
     "text": [
      "found class folders in \"test\": ['Heart', 'Oblong', 'Oval', 'Round', 'Square']\n",
      "found 200 files in \"Heart\" folder under \"test\".\n",
      "found 200 files in \"Oblong\" folder under \"test\".\n",
      "found 199 files in \"Oval\" folder under \"test\".\n",
      "found 199 files in \"Round\" folder under \"test\".\n",
      "found 200 files in \"Square\" folder under \"test\".\n",
      "found class folders in \"train\": ['Heart', 'Oblong', 'Oval', 'Round', 'Square']\n",
      "found 798 files in \"Heart\" folder under \"train\".\n",
      "found 798 files in \"Oblong\" folder under \"train\".\n",
      "found 797 files in \"Oval\" folder under \"train\".\n",
      "found 789 files in \"Round\" folder under \"train\".\n",
      "found 799 files in \"Square\" folder under \"train\".\n",
      "Total samples in the dataset:  4979\n",
      "class distribution:\n",
      "label\n",
      "Square    999\n",
      "Heart     998\n",
      "Oblong    998\n",
      "Oval      996\n",
      "Round     988\n",
      "Name: count, dtype: int64\n",
      "\n",
      "train samples:  3485\n",
      "\n",
      "validation samples:  996\n",
      "\n",
      "test samples:  498\n"
     ]
    }
   ],
   "source": [
    "#prepare a list to collect file paths and labels\n",
    "data = []\n",
    "\n",
    "#iterate over the subdirectories\n",
    "for split in subdirs:\n",
    "    split_dir = os.path.join(base_dir, split)\n",
    "    if not os.path.isdir(split_dir):\n",
    "        print(f'warning: {split_dir} is not a directory, skipping.')\n",
    "        continue\n",
    "    #list class folders within each split directory\n",
    "    class_folders = [os.path.join(split_dir, folder) for folder in os.listdir(split_dir) if os.path.isdir(os.path.join(split_dir, folder))]\n",
    "    print(f'found class folders in \"{split}\":', [os.path.basename(cf) for cf in class_folders])\n",
    "    \n",
    "    #iterate over each class folder\n",
    "    for class_folder in class_folders:\n",
    "        label = os.path.basename(class_folder) #folder name as label\n",
    "        #get all images filepath\n",
    "        img_files = glob.glob(os.path.join(class_folder,'*.*'))\n",
    "        print(f'found {len(img_files)} files in \"{label}\" folder under \"{split}\".')\n",
    "        for img_path in img_files:\n",
    "            data.append({'filepath': img_path, 'label': label, 'orginal_split': split})\n",
    "\n",
    "#create a dataframe from the collected data\n",
    "df = pd.DataFrame(data)\n",
    "#check if df contains the label\n",
    "if 'label' in df.columns and not df.empty:\n",
    "    print('Total samples in the dataset: ', len(df))\n",
    "    print('class distribution:')\n",
    "    print(df['label'].value_counts())\n",
    "else:\n",
    "    raise KeyError('the label column is missing from df.')\n",
    "\n",
    "#split dataset into train 70% test 10% validation 20%\n",
    "#first split the test set 10%\n",
    "train_val_df, test_df = train_test_split(\n",
    "    df,\n",
    "    test_size=0.10,\n",
    "    stratify=df['label'],\n",
    "    random_state=42)\n",
    "\n",
    "#from the remaining 90% allocate 20% for validation\n",
    "train_df, val_df = train_test_split(\n",
    "    train_val_df,\n",
    "    test_size=0.2222, #~20% of overall data\n",
    "    stratify=train_val_df['label'],\n",
    "    random_state=42)\n",
    "\n",
    "#show the number of samples for each split\n",
    "print('\\ntrain samples: ', len(train_df))\n",
    "print('\\nvalidation samples: ', len(val_df))\n",
    "print('\\ntest samples: ', len(test_df))\n",
    "\n",
    "#save the splits to csv for processing\n",
    "train_df.to_csv('train_data.csv', index=False)\n",
    "val_df.to_csv('val_data.csv', index=False)\n",
    "test_df.to_csv('test_data.csv', index=False)"
   ],
   "metadata": {
    "collapsed": false,
    "ExecuteTime": {
     "end_time": "2025-04-09T15:52:13.979700600Z",
     "start_time": "2025-04-09T15:52:13.932112800Z"
    }
   },
   "id": "a1bf0aaf59621842"
  },
  {
   "cell_type": "code",
   "execution_count": 21,
   "outputs": [
    {
     "data": {
      "text/plain": "                                            filepath   label orginal_split\n3461    Faceshape_dataset\\train\\Round\\Round(161).jpg   Round         train\n3700    Faceshape_dataset\\train\\Round\\Round(377).jpg   Round         train\n4368  Faceshape_dataset\\train\\Square\\Square(268).jpg  Square         train\n10       Faceshape_dataset\\test\\Heart\\Heart(107).jpg   Heart          test\n2931      Faceshape_dataset\\train\\Oval\\Oval(401).jpg    Oval         train\n...                                              ...     ...           ...\n4649  Faceshape_dataset\\train\\Square\\Square(520).jpg  Square         train\n4000    Faceshape_dataset\\train\\Round\\Round(647).jpg   Round         train\n3260      Faceshape_dataset\\train\\Oval\\Oval(699).jpg    Oval         train\n3481     Faceshape_dataset\\train\\Round\\Round(18).jpg   Round         train\n4465  Faceshape_dataset\\train\\Square\\Square(355).jpg  Square         train\n\n[3485 rows x 3 columns]",
      "text/html": "<div>\n<style scoped>\n    .dataframe tbody tr th:only-of-type {\n        vertical-align: middle;\n    }\n\n    .dataframe tbody tr th {\n        vertical-align: top;\n    }\n\n    .dataframe thead th {\n        text-align: right;\n    }\n</style>\n<table border=\"1\" class=\"dataframe\">\n  <thead>\n    <tr style=\"text-align: right;\">\n      <th></th>\n      <th>filepath</th>\n      <th>label</th>\n      <th>orginal_split</th>\n    </tr>\n  </thead>\n  <tbody>\n    <tr>\n      <th>3461</th>\n      <td>Faceshape_dataset\\train\\Round\\Round(161).jpg</td>\n      <td>Round</td>\n      <td>train</td>\n    </tr>\n    <tr>\n      <th>3700</th>\n      <td>Faceshape_dataset\\train\\Round\\Round(377).jpg</td>\n      <td>Round</td>\n      <td>train</td>\n    </tr>\n    <tr>\n      <th>4368</th>\n      <td>Faceshape_dataset\\train\\Square\\Square(268).jpg</td>\n      <td>Square</td>\n      <td>train</td>\n    </tr>\n    <tr>\n      <th>10</th>\n      <td>Faceshape_dataset\\test\\Heart\\Heart(107).jpg</td>\n      <td>Heart</td>\n      <td>test</td>\n    </tr>\n    <tr>\n      <th>2931</th>\n      <td>Faceshape_dataset\\train\\Oval\\Oval(401).jpg</td>\n      <td>Oval</td>\n      <td>train</td>\n    </tr>\n    <tr>\n      <th>...</th>\n      <td>...</td>\n      <td>...</td>\n      <td>...</td>\n    </tr>\n    <tr>\n      <th>4649</th>\n      <td>Faceshape_dataset\\train\\Square\\Square(520).jpg</td>\n      <td>Square</td>\n      <td>train</td>\n    </tr>\n    <tr>\n      <th>4000</th>\n      <td>Faceshape_dataset\\train\\Round\\Round(647).jpg</td>\n      <td>Round</td>\n      <td>train</td>\n    </tr>\n    <tr>\n      <th>3260</th>\n      <td>Faceshape_dataset\\train\\Oval\\Oval(699).jpg</td>\n      <td>Oval</td>\n      <td>train</td>\n    </tr>\n    <tr>\n      <th>3481</th>\n      <td>Faceshape_dataset\\train\\Round\\Round(18).jpg</td>\n      <td>Round</td>\n      <td>train</td>\n    </tr>\n    <tr>\n      <th>4465</th>\n      <td>Faceshape_dataset\\train\\Square\\Square(355).jpg</td>\n      <td>Square</td>\n      <td>train</td>\n    </tr>\n  </tbody>\n</table>\n<p>3485 rows × 3 columns</p>\n</div>"
     },
     "execution_count": 21,
     "metadata": {},
     "output_type": "execute_result"
    }
   ],
   "source": [
    "train_df"
   ],
   "metadata": {
    "collapsed": false,
    "ExecuteTime": {
     "end_time": "2025-04-09T15:52:47.191094400Z",
     "start_time": "2025-04-09T15:52:47.152147300Z"
    }
   },
   "id": "55122c4838426410"
  },
  {
   "cell_type": "code",
   "execution_count": 22,
   "outputs": [
    {
     "data": {
      "text/plain": "                                            filepath   label orginal_split\n589         Faceshape_dataset\\test\\Oval\\Oval(90).jpg    Oval          test\n1607    Faceshape_dataset\\train\\Heart\\Heart(647).jpg   Heart         train\n1452    Faceshape_dataset\\train\\Heart\\Heart(507).jpg   Heart         train\n2384  Faceshape_dataset\\train\\Oblong\\Oblong(628).jpg  Oblong         train\n854    Faceshape_dataset\\test\\Square\\Square(149).jpg  Square          test\n...                                              ...     ...           ...\n1090    Faceshape_dataset\\train\\Heart\\Heart(181).jpg   Heart         train\n2781      Faceshape_dataset\\train\\Oval\\Oval(267).jpg    Oval         train\n957     Faceshape_dataset\\test\\Square\\Square(62).jpg  Square          test\n3274      Faceshape_dataset\\train\\Oval\\Oval(710).jpg    Oval         train\n1140    Faceshape_dataset\\train\\Heart\\Heart(226).jpg   Heart         train\n\n[996 rows x 3 columns]",
      "text/html": "<div>\n<style scoped>\n    .dataframe tbody tr th:only-of-type {\n        vertical-align: middle;\n    }\n\n    .dataframe tbody tr th {\n        vertical-align: top;\n    }\n\n    .dataframe thead th {\n        text-align: right;\n    }\n</style>\n<table border=\"1\" class=\"dataframe\">\n  <thead>\n    <tr style=\"text-align: right;\">\n      <th></th>\n      <th>filepath</th>\n      <th>label</th>\n      <th>orginal_split</th>\n    </tr>\n  </thead>\n  <tbody>\n    <tr>\n      <th>589</th>\n      <td>Faceshape_dataset\\test\\Oval\\Oval(90).jpg</td>\n      <td>Oval</td>\n      <td>test</td>\n    </tr>\n    <tr>\n      <th>1607</th>\n      <td>Faceshape_dataset\\train\\Heart\\Heart(647).jpg</td>\n      <td>Heart</td>\n      <td>train</td>\n    </tr>\n    <tr>\n      <th>1452</th>\n      <td>Faceshape_dataset\\train\\Heart\\Heart(507).jpg</td>\n      <td>Heart</td>\n      <td>train</td>\n    </tr>\n    <tr>\n      <th>2384</th>\n      <td>Faceshape_dataset\\train\\Oblong\\Oblong(628).jpg</td>\n      <td>Oblong</td>\n      <td>train</td>\n    </tr>\n    <tr>\n      <th>854</th>\n      <td>Faceshape_dataset\\test\\Square\\Square(149).jpg</td>\n      <td>Square</td>\n      <td>test</td>\n    </tr>\n    <tr>\n      <th>...</th>\n      <td>...</td>\n      <td>...</td>\n      <td>...</td>\n    </tr>\n    <tr>\n      <th>1090</th>\n      <td>Faceshape_dataset\\train\\Heart\\Heart(181).jpg</td>\n      <td>Heart</td>\n      <td>train</td>\n    </tr>\n    <tr>\n      <th>2781</th>\n      <td>Faceshape_dataset\\train\\Oval\\Oval(267).jpg</td>\n      <td>Oval</td>\n      <td>train</td>\n    </tr>\n    <tr>\n      <th>957</th>\n      <td>Faceshape_dataset\\test\\Square\\Square(62).jpg</td>\n      <td>Square</td>\n      <td>test</td>\n    </tr>\n    <tr>\n      <th>3274</th>\n      <td>Faceshape_dataset\\train\\Oval\\Oval(710).jpg</td>\n      <td>Oval</td>\n      <td>train</td>\n    </tr>\n    <tr>\n      <th>1140</th>\n      <td>Faceshape_dataset\\train\\Heart\\Heart(226).jpg</td>\n      <td>Heart</td>\n      <td>train</td>\n    </tr>\n  </tbody>\n</table>\n<p>996 rows × 3 columns</p>\n</div>"
     },
     "execution_count": 22,
     "metadata": {},
     "output_type": "execute_result"
    }
   ],
   "source": [
    "val_df"
   ],
   "metadata": {
    "collapsed": false,
    "ExecuteTime": {
     "end_time": "2025-04-09T15:52:56.945658100Z",
     "start_time": "2025-04-09T15:52:56.924981700Z"
    }
   },
   "id": "daaaec1a291d3da8"
  },
  {
   "cell_type": "code",
   "execution_count": 23,
   "outputs": [
    {
     "data": {
      "text/plain": "                                            filepath   label orginal_split\n847    Faceshape_dataset\\test\\Square\\Square(142).jpg  Square          test\n3151       Faceshape_dataset\\train\\Oval\\Oval(60).jpg    Oval         train\n3346      Faceshape_dataset\\train\\Oval\\Oval(776).jpg    Oval         train\n1353    Faceshape_dataset\\train\\Heart\\Heart(418).jpg   Heart         train\n3861    Faceshape_dataset\\train\\Round\\Round(521).jpg   Round         train\n...                                              ...     ...           ...\n2167  Faceshape_dataset\\train\\Oblong\\Oblong(432).jpg  Oblong         train\n4471  Faceshape_dataset\\train\\Square\\Square(360).jpg  Square         train\n1211    Faceshape_dataset\\train\\Heart\\Heart(290).jpg   Heart         train\n4543  Faceshape_dataset\\train\\Square\\Square(425).jpg  Square         train\n3840    Faceshape_dataset\\train\\Round\\Round(502).jpg   Round         train\n\n[498 rows x 3 columns]",
      "text/html": "<div>\n<style scoped>\n    .dataframe tbody tr th:only-of-type {\n        vertical-align: middle;\n    }\n\n    .dataframe tbody tr th {\n        vertical-align: top;\n    }\n\n    .dataframe thead th {\n        text-align: right;\n    }\n</style>\n<table border=\"1\" class=\"dataframe\">\n  <thead>\n    <tr style=\"text-align: right;\">\n      <th></th>\n      <th>filepath</th>\n      <th>label</th>\n      <th>orginal_split</th>\n    </tr>\n  </thead>\n  <tbody>\n    <tr>\n      <th>847</th>\n      <td>Faceshape_dataset\\test\\Square\\Square(142).jpg</td>\n      <td>Square</td>\n      <td>test</td>\n    </tr>\n    <tr>\n      <th>3151</th>\n      <td>Faceshape_dataset\\train\\Oval\\Oval(60).jpg</td>\n      <td>Oval</td>\n      <td>train</td>\n    </tr>\n    <tr>\n      <th>3346</th>\n      <td>Faceshape_dataset\\train\\Oval\\Oval(776).jpg</td>\n      <td>Oval</td>\n      <td>train</td>\n    </tr>\n    <tr>\n      <th>1353</th>\n      <td>Faceshape_dataset\\train\\Heart\\Heart(418).jpg</td>\n      <td>Heart</td>\n      <td>train</td>\n    </tr>\n    <tr>\n      <th>3861</th>\n      <td>Faceshape_dataset\\train\\Round\\Round(521).jpg</td>\n      <td>Round</td>\n      <td>train</td>\n    </tr>\n    <tr>\n      <th>...</th>\n      <td>...</td>\n      <td>...</td>\n      <td>...</td>\n    </tr>\n    <tr>\n      <th>2167</th>\n      <td>Faceshape_dataset\\train\\Oblong\\Oblong(432).jpg</td>\n      <td>Oblong</td>\n      <td>train</td>\n    </tr>\n    <tr>\n      <th>4471</th>\n      <td>Faceshape_dataset\\train\\Square\\Square(360).jpg</td>\n      <td>Square</td>\n      <td>train</td>\n    </tr>\n    <tr>\n      <th>1211</th>\n      <td>Faceshape_dataset\\train\\Heart\\Heart(290).jpg</td>\n      <td>Heart</td>\n      <td>train</td>\n    </tr>\n    <tr>\n      <th>4543</th>\n      <td>Faceshape_dataset\\train\\Square\\Square(425).jpg</td>\n      <td>Square</td>\n      <td>train</td>\n    </tr>\n    <tr>\n      <th>3840</th>\n      <td>Faceshape_dataset\\train\\Round\\Round(502).jpg</td>\n      <td>Round</td>\n      <td>train</td>\n    </tr>\n  </tbody>\n</table>\n<p>498 rows × 3 columns</p>\n</div>"
     },
     "execution_count": 23,
     "metadata": {},
     "output_type": "execute_result"
    }
   ],
   "source": [
    "test_df"
   ],
   "metadata": {
    "collapsed": false,
    "ExecuteTime": {
     "end_time": "2025-04-09T15:52:59.232211500Z",
     "start_time": "2025-04-09T15:52:59.212165700Z"
    }
   },
   "id": "a1080c0391fb8c4c"
  },
  {
   "cell_type": "code",
   "execution_count": null,
   "outputs": [],
   "source": [],
   "metadata": {
    "collapsed": false
   },
   "id": "fda2ab6f89111895"
  }
 ],
 "metadata": {
  "kernelspec": {
   "display_name": "Python 3",
   "language": "python",
   "name": "python3"
  },
  "language_info": {
   "codemirror_mode": {
    "name": "ipython",
    "version": 2
   },
   "file_extension": ".py",
   "mimetype": "text/x-python",
   "name": "python",
   "nbconvert_exporter": "python",
   "pygments_lexer": "ipython2",
   "version": "2.7.6"
  }
 },
 "nbformat": 4,
 "nbformat_minor": 5
}
